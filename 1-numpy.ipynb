{
 "cells": [
  {
   "cell_type": "code",
   "execution_count": 1,
   "id": "e4bf639f-0d51-4b57-a5c4-5e68e3e0cbaa",
   "metadata": {
    "scrolled": true
   },
   "outputs": [
    {
     "name": "stdout",
     "output_type": "stream",
     "text": [
      "Collecting numpy\n",
      "  Downloading numpy-2.2.1-cp312-cp312-win_amd64.whl.metadata (60 kB)\n",
      "Downloading numpy-2.2.1-cp312-cp312-win_amd64.whl (12.6 MB)\n",
      "   ---------------------------------------- 0.0/12.6 MB ? eta -:--:--\n",
      "   - -------------------------------------- 0.5/12.6 MB 4.2 MB/s eta 0:00:03\n",
      "   --- ------------------------------------ 1.0/12.6 MB 2.3 MB/s eta 0:00:06\n",
      "   ---- ----------------------------------- 1.3/12.6 MB 2.3 MB/s eta 0:00:05\n",
      "   ---- ----------------------------------- 1.6/12.6 MB 2.2 MB/s eta 0:00:06\n",
      "   ------ --------------------------------- 2.1/12.6 MB 1.8 MB/s eta 0:00:06\n",
      "   ------- -------------------------------- 2.4/12.6 MB 1.8 MB/s eta 0:00:06\n",
      "   -------- ------------------------------- 2.6/12.6 MB 1.9 MB/s eta 0:00:06\n",
      "   --------- ------------------------------ 2.9/12.6 MB 1.7 MB/s eta 0:00:06\n",
      "   --------- ------------------------------ 2.9/12.6 MB 1.7 MB/s eta 0:00:06\n",
      "   --------- ------------------------------ 3.1/12.6 MB 1.5 MB/s eta 0:00:07\n",
      "   -------------- ------------------------- 4.5/12.6 MB 1.9 MB/s eta 0:00:05\n",
      "   ------------------- -------------------- 6.3/12.6 MB 2.4 MB/s eta 0:00:03\n",
      "   -------------------- ------------------- 6.6/12.6 MB 2.3 MB/s eta 0:00:03\n",
      "   ---------------------- ----------------- 7.1/12.6 MB 2.3 MB/s eta 0:00:03\n",
      "   ------------------------ --------------- 7.6/12.6 MB 2.3 MB/s eta 0:00:03\n",
      "   -------------------------- ------------- 8.4/12.6 MB 2.4 MB/s eta 0:00:02\n",
      "   -------------------------------- ------- 10.2/12.6 MB 2.8 MB/s eta 0:00:01\n",
      "   ------------------------------------ --- 11.5/12.6 MB 3.0 MB/s eta 0:00:01\n",
      "   ------------------------------------ --- 11.5/12.6 MB 3.0 MB/s eta 0:00:01\n",
      "   ------------------------------------- -- 11.8/12.6 MB 2.7 MB/s eta 0:00:01\n",
      "   -------------------------------------- - 12.1/12.6 MB 2.7 MB/s eta 0:00:01\n",
      "   ---------------------------------------- 12.6/12.6 MB 2.7 MB/s eta 0:00:00\n",
      "Installing collected packages: numpy\n",
      "Successfully installed numpy-2.2.1\n"
     ]
    }
   ],
   "source": [
    "!pip install numpy"
   ]
  },
  {
   "cell_type": "code",
   "execution_count": 1,
   "id": "7f46d3fa-75c4-475e-a306-1b564896c410",
   "metadata": {},
   "outputs": [],
   "source": [
    "import numpy as np"
   ]
  },
  {
   "cell_type": "code",
   "execution_count": 3,
   "id": "750373ce-4b76-403a-8ff8-c873e228c7c2",
   "metadata": {},
   "outputs": [],
   "source": [
    "import time"
   ]
  },
  {
   "cell_type": "code",
   "execution_count": 5,
   "id": "cc56be2c-87ff-442b-a466-1949b3ceaead",
   "metadata": {},
   "outputs": [],
   "source": [
    "import sys"
   ]
  },
  {
   "cell_type": "code",
   "execution_count": 27,
   "id": "62e238b7-cd66-44b0-af19-88611ec42dbd",
   "metadata": {},
   "outputs": [
    {
     "name": "stdout",
     "output_type": "stream",
     "text": [
      "28 28000\n",
      "1000 8 8000\n"
     ]
    }
   ],
   "source": [
    "# example demonstrates storage size when comparing python list and numpy array\n",
    "i = range(1000)\n",
    "print(sys.getsizeof(555), sys.getsizeof(555)*len(i))\n",
    "j = np.arange(1000)\n",
    "print(j.size, j.itemsize, j.size*j.itemsize)\n"
   ]
  },
  {
   "cell_type": "code",
   "execution_count": null,
   "id": "eee01735-f537-4d16-bd42-530fc314d371",
   "metadata": {},
   "outputs": [],
   "source": []
  },
  {
   "cell_type": "code",
   "execution_count": 14,
   "id": "cb2795e4-8715-440c-88fc-bb227ae4115f",
   "metadata": {},
   "outputs": [
    {
     "name": "stdout",
     "output_type": "stream",
     "text": [
      "python list took:  178.53856086730957\n",
      "numpy took:  24.005413055419922\n"
     ]
    }
   ],
   "source": [
    "# example demonstrates time factor when comparing python list and numpy array\n",
    "size=1000000\n",
    "i=range(size)\n",
    "j=range(size)\n",
    "\n",
    "a=np.arange(size)\n",
    "b=np.arange(size)\n",
    "\n",
    "#python list\n",
    "start=time.time()\n",
    "result=[(x+y) for x,y in zip(i, j)]\n",
    "print(\"python list took: \", (time.time()-start)*1000)\n",
    "\n",
    "#numpy array\n",
    "start=time.time()\n",
    "result=a+b\n",
    "print(\"numpy took: \", (time.time()-start)*1000)"
   ]
  },
  {
   "cell_type": "code",
   "execution_count": 9,
   "id": "79623062-6421-48d8-a59a-094154ed4198",
   "metadata": {},
   "outputs": [
    {
     "data": {
      "text/plain": [
       "array([1, 2, 4])"
      ]
     },
     "execution_count": 9,
     "metadata": {},
     "output_type": "execute_result"
    }
   ],
   "source": [
    "np.array([1,2,4])"
   ]
  },
  {
   "cell_type": "code",
   "execution_count": 17,
   "id": "08c0bd43-21a4-4619-98c5-9278b5270fda",
   "metadata": {},
   "outputs": [
    {
     "data": {
      "text/plain": [
       "array([[1., 2., 4.],\n",
       "       [5., 6., 7.]])"
      ]
     },
     "execution_count": 17,
     "metadata": {},
     "output_type": "execute_result"
    }
   ],
   "source": [
    "np.array([[1,2,4],[5,6,7]], dtype=float)"
   ]
  },
  {
   "cell_type": "code",
   "execution_count": 35,
   "id": "3e3b2501-031e-4bd5-bd56-0c020e6fe00b",
   "metadata": {},
   "outputs": [
    {
     "data": {
      "text/plain": [
       "array([[0, 0],\n",
       "       [0, 0],\n",
       "       [0, 0]], dtype=int16)"
      ]
     },
     "execution_count": 35,
     "metadata": {},
     "output_type": "execute_result"
    }
   ],
   "source": [
    "np.zeros((3,2), dtype=np.int16)"
   ]
  },
  {
   "cell_type": "code",
   "execution_count": 39,
   "id": "c0ecb8ee-a789-4529-80f8-e58bc1988d34",
   "metadata": {},
   "outputs": [
    {
     "data": {
      "text/plain": [
       "array([[1, 1, 1, 1, 1],\n",
       "       [1, 1, 1, 1, 1],\n",
       "       [1, 1, 1, 1, 1],\n",
       "       [1, 1, 1, 1, 1]], dtype=int8)"
      ]
     },
     "execution_count": 39,
     "metadata": {},
     "output_type": "execute_result"
    }
   ],
   "source": [
    "np.ones((4, 5), dtype=np.int8)"
   ]
  },
  {
   "cell_type": "code",
   "execution_count": 43,
   "id": "f4bdeb25-3add-44c1-9c2b-f56bc41105db",
   "metadata": {},
   "outputs": [
    {
     "data": {
      "text/plain": [
       "array([19, 27, 35, 43, 51, 59, 67, 75, 83, 91, 99])"
      ]
     },
     "execution_count": 43,
     "metadata": {},
     "output_type": "execute_result"
    }
   ],
   "source": [
    "np.arange(19, 100, 8)"
   ]
  },
  {
   "cell_type": "code",
   "execution_count": 50,
   "id": "7dbec8bf-4678-459a-8a5b-15ce229e3fe9",
   "metadata": {},
   "outputs": [
    {
     "data": {
      "text/plain": [
       "array([  1.  ,  25.75,  50.5 ,  75.25, 100.  ])"
      ]
     },
     "execution_count": 50,
     "metadata": {},
     "output_type": "execute_result"
    }
   ],
   "source": [
    "np.linspace(1,100,5)"
   ]
  },
  {
   "cell_type": "code",
   "execution_count": 35,
   "id": "5d4dfc2b-dd2f-45d0-95c6-ce0cb75d8baa",
   "metadata": {},
   "outputs": [
    {
     "data": {
      "text/plain": [
       "array([[[9, 9, 9, 9],\n",
       "        [9, 9, 9, 9],\n",
       "        [9, 9, 9, 9]],\n",
       "\n",
       "       [[9, 9, 9, 9],\n",
       "        [9, 9, 9, 9],\n",
       "        [9, 9, 9, 9]]])"
      ]
     },
     "execution_count": 35,
     "metadata": {},
     "output_type": "execute_result"
    }
   ],
   "source": [
    "b = np.full((2,3, 4),9)\n",
    "b"
   ]
  },
  {
   "cell_type": "code",
   "execution_count": 68,
   "id": "29b3161d-6b06-470c-a935-3fe6d4c27e69",
   "metadata": {},
   "outputs": [
    {
     "data": {
      "text/plain": [
       "array([[1., 0.],\n",
       "       [0., 1.]])"
      ]
     },
     "execution_count": 68,
     "metadata": {},
     "output_type": "execute_result"
    }
   ],
   "source": [
    "np.eye(2)"
   ]
  },
  {
   "cell_type": "code",
   "execution_count": null,
   "id": "d80d690f-a16c-4d73-bdcd-d26eb93b5b71",
   "metadata": {},
   "outputs": [],
   "source": []
  },
  {
   "cell_type": "code",
   "execution_count": 72,
   "id": "f956fe26-d330-4711-b3f2-b9076addf6f1",
   "metadata": {},
   "outputs": [
    {
     "data": {
      "text/plain": [
       "array([[0.34492156, 0.83711903, 0.23178304],\n",
       "       [0.85668163, 0.67424101, 0.92280757],\n",
       "       [0.24965919, 0.74714061, 0.3151956 ]])"
      ]
     },
     "execution_count": 72,
     "metadata": {},
     "output_type": "execute_result"
    }
   ],
   "source": [
    "np.random.random((3,3))"
   ]
  },
  {
   "cell_type": "code",
   "execution_count": 33,
   "id": "7290edac-b0f4-4128-8735-37d0936d0b68",
   "metadata": {},
   "outputs": [
    {
     "data": {
      "text/plain": [
       "array([[6.23042070e-307, 4.67296746e-307],\n",
       "       [1.69121096e-306, 1.10758628e-311]])"
      ]
     },
     "execution_count": 33,
     "metadata": {},
     "output_type": "execute_result"
    }
   ],
   "source": [
    "a = np.empty((2,2))\n",
    "a"
   ]
  },
  {
   "cell_type": "code",
   "execution_count": 94,
   "id": "e2fd21da-5d1f-4cd4-b743-c9ddc840e713",
   "metadata": {},
   "outputs": [],
   "source": [
    "np.savez('my_array.npz', a)"
   ]
  },
  {
   "cell_type": "code",
   "execution_count": 98,
   "id": "81a61d09-04af-4e49-8ef8-ba119a68c873",
   "metadata": {},
   "outputs": [
    {
     "data": {
      "text/plain": [
       "array([[1.13483612e+119]])"
      ]
     },
     "execution_count": 98,
     "metadata": {},
     "output_type": "execute_result"
    }
   ],
   "source": [
    "np.load('my_array.npy')"
   ]
  },
  {
   "cell_type": "code",
   "execution_count": 116,
   "id": "7821b0d1-8a2d-404e-b4dc-86a33fd6af9c",
   "metadata": {},
   "outputs": [],
   "source": [
    "np.savetxt('my_array.txt', a)"
   ]
  },
  {
   "cell_type": "code",
   "execution_count": 118,
   "id": "368f5ed7-830b-44cc-9cbc-81da328e8181",
   "metadata": {},
   "outputs": [
    {
     "data": {
      "text/plain": [
       "array([[0.03894171, 0.51183004],\n",
       "       [0.20305815, 0.72166714]])"
      ]
     },
     "execution_count": 118,
     "metadata": {},
     "output_type": "execute_result"
    }
   ],
   "source": [
    "np.loadtxt('my_array.txt')"
   ]
  },
  {
   "cell_type": "code",
   "execution_count": 128,
   "id": "669e46ce-3143-4af1-8dff-88ab0f51db27",
   "metadata": {},
   "outputs": [
    {
     "name": "stderr",
     "output_type": "stream",
     "text": [
      "C:\\Users\\e22108.EXTRAMARKS\\AppData\\Local\\Temp\\ipykernel_17184\\1484095265.py:1: DeprecationWarning: loadtxt(): Parsing an integer via a float is deprecated.  To avoid this warning, you can:\n",
      "    * make sure the original data is stored as integers.\n",
      "    * use the `converters=` keyword argument.  If you only use\n",
      "      NumPy 1.23 or later, `converters=float` will normally work.\n",
      "    * Use `np.loadtxt(...).astype(np.int64)` parsing the file as\n",
      "      floating point and then convert it.  (On all NumPy versions.)\n",
      "  (Deprecated NumPy 1.23)\n",
      "  np.loadtxt('my_array.txt', delimiter=\" \", dtype=int)\n"
     ]
    },
    {
     "data": {
      "text/plain": [
       "array([[0, 0],\n",
       "       [0, 0]])"
      ]
     },
     "execution_count": 128,
     "metadata": {},
     "output_type": "execute_result"
    }
   ],
   "source": [
    "np.loadtxt('my_array.txt', delimiter=\" \", dtype=int)"
   ]
  },
  {
   "cell_type": "code",
   "execution_count": 130,
   "id": "2ed891b6-0a29-424c-b62b-d3b374d9d65a",
   "metadata": {},
   "outputs": [
    {
     "name": "stdout",
     "output_type": "stream",
     "text": [
      "Data-type of the array's elements.\n",
      "\n",
      ".. warning::\n",
      "\n",
      "    Setting ``arr.dtype`` is discouraged and may be deprecated in the\n",
      "    future.  Setting will replace the ``dtype`` without modifying the\n",
      "    memory (see also `ndarray.view` and `ndarray.astype`).\n",
      "\n",
      "Parameters\n",
      "----------\n",
      "None\n",
      "\n",
      "Returns\n",
      "-------\n",
      "d : numpy dtype object\n",
      "\n",
      "See Also\n",
      "--------\n",
      "ndarray.astype : Cast the values contained in the array to a new data-type.\n",
      "ndarray.view : Create a view of the same data but a different data-type.\n",
      "numpy.dtype\n",
      "\n",
      "Examples\n",
      "--------\n",
      ">>> x\n",
      "array([[0, 1],\n",
      "       [2, 3]])\n",
      ">>> x.dtype\n",
      "dtype('int32')\n",
      ">>> type(x.dtype)\n",
      "<type 'numpy.dtype'>\n"
     ]
    }
   ],
   "source": [
    "np.info(np.ndarray.dtype)"
   ]
  },
  {
   "cell_type": "code",
   "execution_count": 132,
   "id": "272ef913-f8dc-4e0d-9a0b-e8273569c2d1",
   "metadata": {},
   "outputs": [
    {
     "data": {
      "text/plain": [
       "(2, 2)"
      ]
     },
     "execution_count": 132,
     "metadata": {},
     "output_type": "execute_result"
    }
   ],
   "source": [
    "a.shape"
   ]
  },
  {
   "cell_type": "code",
   "execution_count": 138,
   "id": "bffd5a31-6f49-47e2-8f22-a26e3483d7e7",
   "metadata": {},
   "outputs": [
    {
     "data": {
      "text/plain": [
       "(2, 3, 4)"
      ]
     },
     "execution_count": 138,
     "metadata": {},
     "output_type": "execute_result"
    }
   ],
   "source": [
    "b.shape"
   ]
  },
  {
   "cell_type": "code",
   "execution_count": 140,
   "id": "be5bdda1-f266-4ae5-859e-524e535b713c",
   "metadata": {},
   "outputs": [
    {
     "data": {
      "text/plain": [
       "2"
      ]
     },
     "execution_count": 140,
     "metadata": {},
     "output_type": "execute_result"
    }
   ],
   "source": [
    "len(a)"
   ]
  },
  {
   "cell_type": "code",
   "execution_count": 142,
   "id": "26ac1e14-11d4-4aed-b83a-2aeef53ce45b",
   "metadata": {},
   "outputs": [
    {
     "data": {
      "text/plain": [
       "2"
      ]
     },
     "execution_count": 142,
     "metadata": {},
     "output_type": "execute_result"
    }
   ],
   "source": [
    "len(b)"
   ]
  },
  {
   "cell_type": "code",
   "execution_count": 145,
   "id": "5197543b-4671-4e98-be88-e3614e66f91d",
   "metadata": {},
   "outputs": [
    {
     "data": {
      "text/plain": [
       "2"
      ]
     },
     "execution_count": 145,
     "metadata": {},
     "output_type": "execute_result"
    }
   ],
   "source": [
    "a.ndim"
   ]
  },
  {
   "cell_type": "code",
   "execution_count": 147,
   "id": "06e9fca6-5664-496b-8e8e-31e1809c0d27",
   "metadata": {},
   "outputs": [
    {
     "data": {
      "text/plain": [
       "3"
      ]
     },
     "execution_count": 147,
     "metadata": {},
     "output_type": "execute_result"
    }
   ],
   "source": [
    "b.ndim"
   ]
  },
  {
   "cell_type": "code",
   "execution_count": 149,
   "id": "2cceea95-1f14-4659-a2bd-a89011f6664e",
   "metadata": {},
   "outputs": [
    {
     "data": {
      "text/plain": [
       "4"
      ]
     },
     "execution_count": 149,
     "metadata": {},
     "output_type": "execute_result"
    }
   ],
   "source": [
    "a.size"
   ]
  },
  {
   "cell_type": "code",
   "execution_count": 151,
   "id": "21968ed9-0881-4ed5-96db-0f3f1b4025e6",
   "metadata": {},
   "outputs": [
    {
     "data": {
      "text/plain": [
       "24"
      ]
     },
     "execution_count": 151,
     "metadata": {},
     "output_type": "execute_result"
    }
   ],
   "source": [
    "b.size"
   ]
  },
  {
   "cell_type": "code",
   "execution_count": 153,
   "id": "663e9fa1-8b18-4347-9ad2-7e1db2434193",
   "metadata": {},
   "outputs": [
    {
     "data": {
      "text/plain": [
       "dtype('int64')"
      ]
     },
     "execution_count": 153,
     "metadata": {},
     "output_type": "execute_result"
    }
   ],
   "source": [
    "b.dtype"
   ]
  },
  {
   "cell_type": "code",
   "execution_count": 155,
   "id": "a48d06ae-8bd4-4af3-a99e-4fdab0c94351",
   "metadata": {},
   "outputs": [
    {
     "data": {
      "text/plain": [
       "dtype('float64')"
      ]
     },
     "execution_count": 155,
     "metadata": {},
     "output_type": "execute_result"
    }
   ],
   "source": [
    "a.dtype"
   ]
  },
  {
   "cell_type": "code",
   "execution_count": 157,
   "id": "f23f8dff-c948-43db-99fd-fd20fc06a255",
   "metadata": {},
   "outputs": [
    {
     "data": {
      "text/plain": [
       "'float64'"
      ]
     },
     "execution_count": 157,
     "metadata": {},
     "output_type": "execute_result"
    }
   ],
   "source": [
    "a.dtype.name"
   ]
  },
  {
   "cell_type": "code",
   "execution_count": 37,
   "id": "94079856-d6a4-4cb9-8755-6f8a1649445c",
   "metadata": {},
   "outputs": [
    {
     "data": {
      "text/plain": [
       "dtype('int64')"
      ]
     },
     "execution_count": 37,
     "metadata": {},
     "output_type": "execute_result"
    }
   ],
   "source": [
    "b.astype(np.int32)\n",
    "b.dtype"
   ]
  },
  {
   "cell_type": "code",
   "execution_count": 171,
   "id": "55110f6e-0478-4071-8077-e7c9510a732a",
   "metadata": {},
   "outputs": [
    {
     "data": {
      "text/plain": [
       "dtype('int64')"
      ]
     },
     "execution_count": 171,
     "metadata": {},
     "output_type": "execute_result"
    }
   ],
   "source": [
    "b.dtype"
   ]
  },
  {
   "cell_type": "code",
   "execution_count": 175,
   "id": "e64314d0-d090-4181-b0a3-1b22b477a05d",
   "metadata": {},
   "outputs": [
    {
     "data": {
      "text/plain": [
       "False"
      ]
     },
     "execution_count": 175,
     "metadata": {},
     "output_type": "execute_result"
    }
   ],
   "source": [
    "np.array_equal(a, b)"
   ]
  },
  {
   "cell_type": "code",
   "execution_count": 213,
   "id": "069b0444-3e10-4790-b44a-09403a1362bc",
   "metadata": {},
   "outputs": [
    {
     "data": {
      "text/plain": [
       "False"
      ]
     },
     "execution_count": 213,
     "metadata": {},
     "output_type": "execute_result"
    }
   ],
   "source": [
    "# array wise comparison\n",
    "np.array_equal(np.array([1,1]), np.array([1,2]))"
   ]
  },
  {
   "cell_type": "code",
   "execution_count": 39,
   "id": "d372b8b8-7730-4139-94d5-711adc57e34b",
   "metadata": {},
   "outputs": [
    {
     "data": {
      "text/plain": [
       "array([False,  True])"
      ]
     },
     "execution_count": 39,
     "metadata": {},
     "output_type": "execute_result"
    }
   ],
   "source": [
    "# Element wise comparison\n",
    "np.array([1,2]) == np.array([2,2])"
   ]
  },
  {
   "cell_type": "code",
   "execution_count": 229,
   "id": "0d79ff1a-f1d1-4f34-a9cc-948cbc3092d6",
   "metadata": {},
   "outputs": [
    {
     "data": {
      "text/plain": [
       "array([[ True,  True],\n",
       "       [ True,  True]])"
      ]
     },
     "execution_count": 229,
     "metadata": {},
     "output_type": "execute_result"
    }
   ],
   "source": [
    "a < 2"
   ]
  },
  {
   "cell_type": "code",
   "execution_count": 187,
   "id": "4a4a6849-4b1c-4d7f-9a9e-0413ecfd6908",
   "metadata": {},
   "outputs": [
    {
     "data": {
      "text/plain": [
       "array([2, 3])"
      ]
     },
     "execution_count": 187,
     "metadata": {},
     "output_type": "execute_result"
    }
   ],
   "source": [
    "np.add(np.array([1,1]), np.array([1,2]))"
   ]
  },
  {
   "cell_type": "code",
   "execution_count": 189,
   "id": "6a30dd53-47e8-4168-85b9-ba344230c6eb",
   "metadata": {},
   "outputs": [
    {
     "data": {
      "text/plain": [
       "array([2, 3])"
      ]
     },
     "execution_count": 189,
     "metadata": {},
     "output_type": "execute_result"
    }
   ],
   "source": [
    "np.array([1,1]) + np.array([1,2])"
   ]
  },
  {
   "cell_type": "code",
   "execution_count": 195,
   "id": "f30b48d0-b0bf-471d-a046-c0fad07c3844",
   "metadata": {},
   "outputs": [
    {
     "data": {
      "text/plain": [
       "array([ 0, -1])"
      ]
     },
     "execution_count": 195,
     "metadata": {},
     "output_type": "execute_result"
    }
   ],
   "source": [
    "np.subtract(np.array([1,1]), np.array([1,2]))"
   ]
  },
  {
   "cell_type": "code",
   "execution_count": 197,
   "id": "5b71729a-a7d2-440e-83fa-a8b803e57e55",
   "metadata": {},
   "outputs": [
    {
     "data": {
      "text/plain": [
       "array([ 0, -1])"
      ]
     },
     "execution_count": 197,
     "metadata": {},
     "output_type": "execute_result"
    }
   ],
   "source": [
    "np.array([1,1]) - np.array([1,2])"
   ]
  },
  {
   "cell_type": "code",
   "execution_count": 199,
   "id": "1086e35a-570b-4b19-b693-e5e6df5f441a",
   "metadata": {},
   "outputs": [
    {
     "data": {
      "text/plain": [
       "array([1, 2])"
      ]
     },
     "execution_count": 199,
     "metadata": {},
     "output_type": "execute_result"
    }
   ],
   "source": [
    "np.multiply(np.array([1,1]), np.array([1,2]))"
   ]
  },
  {
   "cell_type": "code",
   "execution_count": 201,
   "id": "2c720c62-1068-4af4-b682-236f644e3dd9",
   "metadata": {},
   "outputs": [
    {
     "data": {
      "text/plain": [
       "array([1, 2])"
      ]
     },
     "execution_count": 201,
     "metadata": {},
     "output_type": "execute_result"
    }
   ],
   "source": [
    "np.array([1,1]) * np.array([1,2])"
   ]
  },
  {
   "cell_type": "code",
   "execution_count": 203,
   "id": "b2abbb67-b363-4a63-88dc-ad4f7b1caf8b",
   "metadata": {},
   "outputs": [
    {
     "data": {
      "text/plain": [
       "array([[[8103.08392758, 8103.08392758, 8103.08392758, 8103.08392758],\n",
       "        [8103.08392758, 8103.08392758, 8103.08392758, 8103.08392758],\n",
       "        [8103.08392758, 8103.08392758, 8103.08392758, 8103.08392758]],\n",
       "\n",
       "       [[8103.08392758, 8103.08392758, 8103.08392758, 8103.08392758],\n",
       "        [8103.08392758, 8103.08392758, 8103.08392758, 8103.08392758],\n",
       "        [8103.08392758, 8103.08392758, 8103.08392758, 8103.08392758]]])"
      ]
     },
     "execution_count": 203,
     "metadata": {},
     "output_type": "execute_result"
    }
   ],
   "source": [
    "np.exp(b)"
   ]
  },
  {
   "cell_type": "code",
   "execution_count": 205,
   "id": "4bd02de2-6d66-41cf-893c-d91615ab48bd",
   "metadata": {},
   "outputs": [
    {
     "data": {
      "text/plain": [
       "[1, 2, 3, 4]"
      ]
     },
     "execution_count": 205,
     "metadata": {},
     "output_type": "execute_result"
    }
   ],
   "source": [
    "[1,2,3]+[4]"
   ]
  },
  {
   "cell_type": "code",
   "execution_count": 207,
   "id": "26b89a2b-774d-4e30-8a35-0c8bd0e3bcf4",
   "metadata": {},
   "outputs": [
    {
     "data": {
      "text/plain": [
       "array([5, 6, 7])"
      ]
     },
     "execution_count": 207,
     "metadata": {},
     "output_type": "execute_result"
    }
   ],
   "source": [
    "np.add([1,2,3], [4])"
   ]
  },
  {
   "cell_type": "code",
   "execution_count": 235,
   "id": "2743f965-e6a8-4f38-a128-045a8bdedf44",
   "metadata": {},
   "outputs": [
    {
     "data": {
      "text/plain": [
       "np.int64(216)"
      ]
     },
     "execution_count": 235,
     "metadata": {},
     "output_type": "execute_result"
    }
   ],
   "source": [
    "b.sum()"
   ]
  },
  {
   "cell_type": "code",
   "execution_count": 237,
   "id": "0e310640-40f6-462d-85d7-c90dafee8c80",
   "metadata": {},
   "outputs": [
    {
     "data": {
      "text/plain": [
       "np.float64(0.03894171102542143)"
      ]
     },
     "execution_count": 237,
     "metadata": {},
     "output_type": "execute_result"
    }
   ],
   "source": [
    "a.min()"
   ]
  },
  {
   "cell_type": "code",
   "execution_count": 239,
   "id": "343f11e3-7678-4782-a36c-5b8902707086",
   "metadata": {},
   "outputs": [
    {
     "data": {
      "text/plain": [
       "np.float64(0.7216671366994956)"
      ]
     },
     "execution_count": 239,
     "metadata": {},
     "output_type": "execute_result"
    }
   ],
   "source": [
    "a.max()"
   ]
  },
  {
   "cell_type": "code",
   "execution_count": 247,
   "id": "ab7b1c3c-473d-4c42-b17d-70f2a05240db",
   "metadata": {},
   "outputs": [
    {
     "data": {
      "text/plain": [
       "array([0.51183004, 0.72166714])"
      ]
     },
     "execution_count": 247,
     "metadata": {},
     "output_type": "execute_result"
    }
   ],
   "source": [
    "a.max(axis=1)"
   ]
  },
  {
   "cell_type": "code",
   "execution_count": 243,
   "id": "5c155e0b-badf-42b4-a08e-bd4d87dc1174",
   "metadata": {},
   "outputs": [
    {
     "data": {
      "text/plain": [
       "array([[0.03894171, 0.51183004],\n",
       "       [0.20305815, 0.72166714]])"
      ]
     },
     "execution_count": 243,
     "metadata": {},
     "output_type": "execute_result"
    }
   ],
   "source": [
    "a"
   ]
  },
  {
   "cell_type": "code",
   "execution_count": 249,
   "id": "13b18352-e042-4efd-a8a0-d2a739714960",
   "metadata": {},
   "outputs": [
    {
     "data": {
      "text/plain": [
       "array([0.03894171, 0.55077175, 0.7538299 , 1.47549703])"
      ]
     },
     "execution_count": 249,
     "metadata": {},
     "output_type": "execute_result"
    }
   ],
   "source": [
    "a.cumsum()"
   ]
  },
  {
   "cell_type": "code",
   "execution_count": 251,
   "id": "6021b699-43dd-469d-b333-92f84019c573",
   "metadata": {},
   "outputs": [
    {
     "data": {
      "text/plain": [
       "np.float64(1.4754970343845917)"
      ]
     },
     "execution_count": 251,
     "metadata": {},
     "output_type": "execute_result"
    }
   ],
   "source": [
    "a.sum()"
   ]
  },
  {
   "cell_type": "code",
   "execution_count": 253,
   "id": "eee0e823-cd8d-43ba-b70a-efd9561e6e9f",
   "metadata": {},
   "outputs": [
    {
     "data": {
      "text/plain": [
       "array([[0.03894171, 0.51183004],\n",
       "       [0.24199986, 1.23349717]])"
      ]
     },
     "execution_count": 253,
     "metadata": {},
     "output_type": "execute_result"
    }
   ],
   "source": [
    "a.cumsum(axis=0)"
   ]
  },
  {
   "cell_type": "code",
   "execution_count": 41,
   "id": "e45170b0-0c9c-452e-b43f-80ca2d075177",
   "metadata": {},
   "outputs": [
    {
     "data": {
      "text/plain": [
       "np.float64(6.953902120063161e-307)"
      ]
     },
     "execution_count": 41,
     "metadata": {},
     "output_type": "execute_result"
    }
   ],
   "source": [
    "a.mean()"
   ]
  },
  {
   "cell_type": "code",
   "execution_count": 43,
   "id": "3ac94eeb-35ee-4b1b-ad0f-9359bcbff3c4",
   "metadata": {},
   "outputs": [
    {
     "data": {
      "text/plain": [
       "np.float64(9.0)"
      ]
     },
     "execution_count": 43,
     "metadata": {},
     "output_type": "execute_result"
    }
   ],
   "source": [
    "np.median(b)"
   ]
  },
  {
   "cell_type": "code",
   "execution_count": 45,
   "id": "812ef1c7-3a41-4ba8-9326-5c76572dcfaf",
   "metadata": {},
   "outputs": [
    {
     "data": {
      "text/plain": [
       "np.float64(5.451694083955082e-307)"
      ]
     },
     "execution_count": 45,
     "metadata": {},
     "output_type": "execute_result"
    }
   ],
   "source": [
    "np.median(a)"
   ]
  },
  {
   "cell_type": "code",
   "execution_count": 47,
   "id": "fb3933f7-0843-461e-badc-f9597df31a3e",
   "metadata": {},
   "outputs": [
    {
     "data": {
      "text/plain": [
       "np.float64(0.0)"
      ]
     },
     "execution_count": 47,
     "metadata": {},
     "output_type": "execute_result"
    }
   ],
   "source": [
    "np.std(a)"
   ]
  },
  {
   "cell_type": "code",
   "execution_count": 61,
   "id": "694c4ec6-f1ff-4bba-9a32-68d3ed2d0353",
   "metadata": {},
   "outputs": [
    {
     "data": {
      "text/plain": [
       "np.float64(1.118033988749895)"
      ]
     },
     "execution_count": 61,
     "metadata": {},
     "output_type": "execute_result"
    }
   ],
   "source": [
    "np.std(np.array([1,2,3,4]))"
   ]
  },
  {
   "cell_type": "code",
   "execution_count": 59,
   "id": "5d22b7e1-1517-4248-9d73-b248dda9f1d1",
   "metadata": {},
   "outputs": [
    {
     "data": {
      "text/plain": [
       "np.float64(1.0)"
      ]
     },
     "execution_count": 59,
     "metadata": {},
     "output_type": "execute_result"
    }
   ],
   "source": [
    "np.corrcoef(np.array([1,2,3,4]))"
   ]
  },
  {
   "cell_type": "code",
   "execution_count": 57,
   "id": "a01b85e7-0b0e-495c-8ec1-2c03ebbaf709",
   "metadata": {},
   "outputs": [
    {
     "data": {
      "text/plain": [
       "np.float64(1.0)"
      ]
     },
     "execution_count": 57,
     "metadata": {},
     "output_type": "execute_result"
    }
   ],
   "source": [
    "np.corrcoef(np.array([1,2,3,4]))"
   ]
  },
  {
   "cell_type": "code",
   "execution_count": null,
   "id": "ebed11d6-274d-4693-9c1a-2e9ad52cd763",
   "metadata": {},
   "outputs": [],
   "source": []
  },
  {
   "cell_type": "code",
   "execution_count": null,
   "id": "fc32a09a-8034-46ac-b18f-0e8706ac8f7a",
   "metadata": {},
   "outputs": [],
   "source": []
  }
 ],
 "metadata": {
  "kernelspec": {
   "display_name": "Python [conda env:pro1]",
   "language": "python",
   "name": "conda-env-pro1-py"
  },
  "language_info": {
   "codemirror_mode": {
    "name": "ipython",
    "version": 3
   },
   "file_extension": ".py",
   "mimetype": "text/x-python",
   "name": "python",
   "nbconvert_exporter": "python",
   "pygments_lexer": "ipython3",
   "version": "3.12.0"
  }
 },
 "nbformat": 4,
 "nbformat_minor": 5
}
