{
 "cells": [
  {
   "cell_type": "code",
   "execution_count": null,
   "id": "e687a359-a6fd-4db4-baae-9fa0164cd781",
   "metadata": {},
   "outputs": [],
   "source": [
    "def bs(a, l, h, s):\n",
    "    while l <= h:\n",
    "        m = l+((h - l)//2)\n",
    "        if a[m] == x:\n",
    "            return m;\n",
    "        elif a[m] < x:\n",
    "            l = m+1\n",
    "        else:\n",
    "            l = m-1\n",
    "    return -1\n",
    "\n",
    "a = [2, 3, 4, 10, 40]\n",
    "x = 40\n",
    "r = bs(a, 0, len(a)-1, x)\n",
    "if(r != -1):\n",
    "    print(\"Element is present at index\", r)\n",
    "else:\n",
    "    print(\"Elemet is not present!\")\n"
   ]
  },
  {
   "cell_type": "code",
   "execution_count": null,
   "id": "0a48590b-c799-492d-8e6f-87a4e2695235",
   "metadata": {},
   "outputs": [],
   "source": []
  },
  {
   "cell_type": "code",
   "execution_count": null,
   "id": "a76c5150-d1d9-455d-a6f3-9fa2c654b971",
   "metadata": {},
   "outputs": [],
   "source": []
  },
  {
   "cell_type": "code",
   "execution_count": null,
   "id": "580c623b-6dc1-497f-b929-f1612b8c8781",
   "metadata": {},
   "outputs": [],
   "source": []
  },
  {
   "cell_type": "code",
   "execution_count": null,
   "id": "40a2f559-a69e-49ed-bac6-cfd865051c9d",
   "metadata": {},
   "outputs": [],
   "source": []
  },
  {
   "cell_type": "code",
   "execution_count": null,
   "id": "c8fd4d2c-9f16-410a-8116-32fe66920a91",
   "metadata": {},
   "outputs": [],
   "source": []
  },
  {
   "cell_type": "code",
   "execution_count": null,
   "id": "c51d4ccd-b940-4a6d-9a6c-8166e6c1b408",
   "metadata": {},
   "outputs": [],
   "source": []
  },
  {
   "cell_type": "code",
   "execution_count": null,
   "id": "4fac0c7d-c814-4dde-a6a7-2ef94986ed97",
   "metadata": {},
   "outputs": [],
   "source": []
  },
  {
   "cell_type": "code",
   "execution_count": null,
   "id": "7b44e52e-75bf-47c5-b3ec-a6a9c684e6de",
   "metadata": {},
   "outputs": [],
   "source": []
  }
 ],
 "metadata": {
  "kernelspec": {
   "display_name": "Python [conda env:pro1]",
   "language": "python",
   "name": "conda-env-pro1-py"
  },
  "language_info": {
   "codemirror_mode": {
    "name": "ipython",
    "version": 3
   },
   "file_extension": ".py",
   "mimetype": "text/x-python",
   "name": "python",
   "nbconvert_exporter": "python",
   "pygments_lexer": "ipython3",
   "version": "3.12.0"
  }
 },
 "nbformat": 4,
 "nbformat_minor": 5
}
